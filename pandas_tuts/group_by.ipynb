{
 "metadata": {
  "language_info": {
   "codemirror_mode": {
    "name": "ipython",
    "version": 3
   },
   "file_extension": ".py",
   "mimetype": "text/x-python",
   "name": "python",
   "nbconvert_exporter": "python",
   "pygments_lexer": "ipython3",
   "version": "3.8.2-final"
  },
  "orig_nbformat": 2,
  "kernelspec": {
   "name": "python_defaultSpec_1598472342324",
   "display_name": "Python 3.8.2 64-bit ('venv': venv)"
  }
 },
 "nbformat": 4,
 "nbformat_minor": 2,
 "cells": [
  {
   "cell_type": "code",
   "execution_count": 1,
   "metadata": {},
   "outputs": [],
   "source": [
    "import numpy as np \n",
    "import pandas as pd "
   ]
  },
  {
   "cell_type": "code",
   "execution_count": 2,
   "metadata": {},
   "outputs": [
    {
     "output_type": "execute_result",
     "data": {
      "text/plain": "  Company Persons  Sales\n0      FB  Daniel    233\n1      FB    Mike    500\n2      GO   Ritah    654\n3      GO     Ann   3455\n4      MS   Moses    864\n5      MS  Kelvin   3456",
      "text/html": "<div>\n<style scoped>\n    .dataframe tbody tr th:only-of-type {\n        vertical-align: middle;\n    }\n\n    .dataframe tbody tr th {\n        vertical-align: top;\n    }\n\n    .dataframe thead th {\n        text-align: right;\n    }\n</style>\n<table border=\"1\" class=\"dataframe\">\n  <thead>\n    <tr style=\"text-align: right;\">\n      <th></th>\n      <th>Company</th>\n      <th>Persons</th>\n      <th>Sales</th>\n    </tr>\n  </thead>\n  <tbody>\n    <tr>\n      <th>0</th>\n      <td>FB</td>\n      <td>Daniel</td>\n      <td>233</td>\n    </tr>\n    <tr>\n      <th>1</th>\n      <td>FB</td>\n      <td>Mike</td>\n      <td>500</td>\n    </tr>\n    <tr>\n      <th>2</th>\n      <td>GO</td>\n      <td>Ritah</td>\n      <td>654</td>\n    </tr>\n    <tr>\n      <th>3</th>\n      <td>GO</td>\n      <td>Ann</td>\n      <td>3455</td>\n    </tr>\n    <tr>\n      <th>4</th>\n      <td>MS</td>\n      <td>Moses</td>\n      <td>864</td>\n    </tr>\n    <tr>\n      <th>5</th>\n      <td>MS</td>\n      <td>Kelvin</td>\n      <td>3456</td>\n    </tr>\n  </tbody>\n</table>\n</div>"
     },
     "metadata": {},
     "execution_count": 2
    }
   ],
   "source": [
    "data = {'Company':['FB', 'FB', 'GO', 'GO', 'MS', 'MS'], 'Persons': ['Daniel', 'Mike', 'Ritah', 'Ann', 'Moses', 'Kelvin'], 'Sales':[233, 500, 654, 3455, 864,3456] }\n",
    "df = pd.DataFrame(data)\n",
    "df"
   ]
  },
  {
   "cell_type": "code",
   "execution_count": 5,
   "metadata": {},
   "outputs": [
    {
     "output_type": "execute_result",
     "data": {
      "text/plain": "          Sales\nCompany        \nFB        366.5\nGO       2054.5\nMS       2160.0",
      "text/html": "<div>\n<style scoped>\n    .dataframe tbody tr th:only-of-type {\n        vertical-align: middle;\n    }\n\n    .dataframe tbody tr th {\n        vertical-align: top;\n    }\n\n    .dataframe thead th {\n        text-align: right;\n    }\n</style>\n<table border=\"1\" class=\"dataframe\">\n  <thead>\n    <tr style=\"text-align: right;\">\n      <th></th>\n      <th>Sales</th>\n    </tr>\n    <tr>\n      <th>Company</th>\n      <th></th>\n    </tr>\n  </thead>\n  <tbody>\n    <tr>\n      <th>FB</th>\n      <td>366.5</td>\n    </tr>\n    <tr>\n      <th>GO</th>\n      <td>2054.5</td>\n    </tr>\n    <tr>\n      <th>MS</th>\n      <td>2160.0</td>\n    </tr>\n  </tbody>\n</table>\n</div>"
     },
     "metadata": {},
     "execution_count": 5
    }
   ],
   "source": [
    "df.groupby('Company').mean()"
   ]
  },
  {
   "cell_type": "code",
   "execution_count": 7,
   "metadata": {},
   "outputs": [
    {
     "output_type": "execute_result",
     "data": {
      "text/plain": "Sales    733\nName: FB, dtype: int64"
     },
     "metadata": {},
     "execution_count": 7
    }
   ],
   "source": [
    "df.groupby('Company').sum().loc['FB']"
   ]
  },
  {
   "cell_type": "code",
   "execution_count": 11,
   "metadata": {},
   "outputs": [
    {
     "output_type": "execute_result",
     "data": {
      "text/plain": "        Sales                                                              \n        count    mean          std    min      25%     50%      75%     max\nCompany                                                                    \nFB        2.0   366.5   188.797511  233.0   299.75   366.5   433.25   500.0\nGO        2.0  2054.5  1980.606094  654.0  1354.25  2054.5  2754.75  3455.0\nMS        2.0  2160.0  1832.820777  864.0  1512.00  2160.0  2808.00  3456.0",
      "text/html": "<div>\n<style scoped>\n    .dataframe tbody tr th:only-of-type {\n        vertical-align: middle;\n    }\n\n    .dataframe tbody tr th {\n        vertical-align: top;\n    }\n\n    .dataframe thead tr th {\n        text-align: left;\n    }\n\n    .dataframe thead tr:last-of-type th {\n        text-align: right;\n    }\n</style>\n<table border=\"1\" class=\"dataframe\">\n  <thead>\n    <tr>\n      <th></th>\n      <th colspan=\"8\" halign=\"left\">Sales</th>\n    </tr>\n    <tr>\n      <th></th>\n      <th>count</th>\n      <th>mean</th>\n      <th>std</th>\n      <th>min</th>\n      <th>25%</th>\n      <th>50%</th>\n      <th>75%</th>\n      <th>max</th>\n    </tr>\n    <tr>\n      <th>Company</th>\n      <th></th>\n      <th></th>\n      <th></th>\n      <th></th>\n      <th></th>\n      <th></th>\n      <th></th>\n      <th></th>\n    </tr>\n  </thead>\n  <tbody>\n    <tr>\n      <th>FB</th>\n      <td>2.0</td>\n      <td>366.5</td>\n      <td>188.797511</td>\n      <td>233.0</td>\n      <td>299.75</td>\n      <td>366.5</td>\n      <td>433.25</td>\n      <td>500.0</td>\n    </tr>\n    <tr>\n      <th>GO</th>\n      <td>2.0</td>\n      <td>2054.5</td>\n      <td>1980.606094</td>\n      <td>654.0</td>\n      <td>1354.25</td>\n      <td>2054.5</td>\n      <td>2754.75</td>\n      <td>3455.0</td>\n    </tr>\n    <tr>\n      <th>MS</th>\n      <td>2.0</td>\n      <td>2160.0</td>\n      <td>1832.820777</td>\n      <td>864.0</td>\n      <td>1512.00</td>\n      <td>2160.0</td>\n      <td>2808.00</td>\n      <td>3456.0</td>\n    </tr>\n  </tbody>\n</table>\n</div>"
     },
     "metadata": {},
     "execution_count": 11
    }
   ],
   "source": [
    "df.groupby('Company').describe()"
   ]
  },
  {
   "cell_type": "code",
   "execution_count": null,
   "metadata": {},
   "outputs": [],
   "source": []
  }
 ]
}